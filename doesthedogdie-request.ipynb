{
 "cells": [
  {
   "cell_type": "markdown",
   "id": "79bfb92b-7ec3-4ee4-aeae-2e4c3dfcc264",
   "metadata": {},
   "source": [
    "test for doesthedogdie API"
   ]
  },
  {
   "cell_type": "markdown",
   "id": "1d91795a",
   "metadata": {},
   "source": [
    "Imports"
   ]
  },
  {
   "cell_type": "code",
   "execution_count": null,
   "id": "20584d3f",
   "metadata": {},
   "outputs": [],
   "source": [
    "import json\n",
    "import re\n",
    "import requests\n",
    "import pandas as pd\n",
    "import matplotlib.pyplot as plt"
   ]
  },
  {
   "cell_type": "code",
   "execution_count": null,
   "id": "59d57972",
   "metadata": {},
   "outputs": [],
   "source": [
    "# API request\n",
    "url = 'https://www.doesthedogdie.com/media/9593'\n",
    "headers = {\n",
    "    'Accept': 'application/json',\n",
    "    'X-API-KEY': '8bf1393430a063dd2b27f3699f1625bc'\n",
    "}\n",
    "\n",
    "response = requests.get(url, headers=headers)\n",
    "\n",
    "if response.status_code == 200:\n",
    "    data = response.json()\n",
    "\n",
    "    # Initialize the result structure to store the final extracted data\n",
    "    result = {\n",
    "        'id': data['item'].get('id', 'Unknown'),\n",
    "        'name': data['item'].get('name', 'Unknown'),\n",
    "        'cleanName': data['item'].get('cleanName', 'Unknown'),\n",
    "        'genre': data['item'].get('genre', 'Unknown'),\n",
    "        'releaseYear': data['item'].get('releaseYear', 'Unknown'),\n",
    "        'triggers': []  # store all triggers\n",
    "    }\n",
    "\n",
    "    # Iterate over topicItemStats to collect triggers\n",
    "    for topic_item in data.get('topicItemStats', []):\n",
    "        # Extract the relevant information from topic and topicItemStats\n",
    "        topic = topic_item.get('topic', {})\n",
    "        if topic:\n",
    "            does_name = topic.get('doesName', 'Unknown')\n",
    "            yes_sum = topic_item.get('yesSum', 0)\n",
    "            no_sum = topic_item.get('noSum', 0)\n",
    "\n",
    "            # Append trigger information to list in the result\n",
    "            result['triggers'].append({\n",
    "                'doesName': does_name,\n",
    "                'yesSum': yes_sum,\n",
    "                'noSum': no_sum\n",
    "            })\n",
    "\n",
    "    # print structured result\n",
    "    print(json.dumps(result, indent=4))\n",
    "\n",
    "else:\n",
    "    print(f'Error: {response.status_code} - {response.text}')\n"
   ]
  },
  {
   "cell_type": "markdown",
   "id": "74291103",
   "metadata": {},
   "source": [
    "Flatten Data, extract information and generate .csv file"
   ]
  },
  {
   "cell_type": "code",
   "execution_count": null,
   "id": "c230a940",
   "metadata": {},
   "outputs": [],
   "source": [
    "if response.status_code == 200:\n",
    "    data = response.json()\n",
    "\n",
    "    # Initialize a list to store data for the DataFrame\n",
    "    rows = []\n",
    "\n",
    "    # Extract the main item data (id, name, cleanName, genre, releaseYear)\n",
    "    item_data = {\n",
    "        'id': data['item'].get('id', 'Unknown'),\n",
    "        'name': data['item'].get('name', 'Unknown'),  # cleanName formatted as name\n",
    "        'cleanName': data['item'].get('cleanName', 'Unknown').lower().replace(' ', '_'),\n",
    "        'genre': data['item'].get('genre', 'Unknown'),\n",
    "        'releaseYear': data['item'].get('releaseYear', 'Unknown'),\n",
    "    }\n",
    "\n",
    "    # Iterate over the topicItemStats to collect triggers and add rows\n",
    "    for topic_item in data.get('topicItemStats', []):\n",
    "        topic = topic_item.get('topic', {})\n",
    "        if topic:\n",
    "            does_name = topic.get('doesName', 'Unknown')\n",
    "            yes_sum = topic_item.get('yesSum', 0)\n",
    "            no_sum = topic_item.get('noSum', 0)\n",
    "\n",
    "            # Add a row to the list of rows with the relevant data\n",
    "            rows.append({\n",
    "                'id': item_data['id'],\n",
    "                'name': item_data['name'],  # Automatically formatted cleanName as name\n",
    "                'cleanName': item_data['cleanName'],\n",
    "                'genre': item_data['genre'],\n",
    "                'releaseYear': item_data['releaseYear'],\n",
    "                'doesName': does_name,\n",
    "                'yesSum': yes_sum,\n",
    "                'noSum': no_sum\n",
    "            })\n",
    "\n",
    "    # Create the DataFrame from the rows\n",
    "    df = pd.DataFrame(rows)\n",
    "\n",
    "    # Create the CSV file name based on the cleanName (lowercase with underscores)\n",
    "    file_name = f'{item_data['cleanName'] + '_df'}.csv'\n",
    "\n",
    "    # Save the DataFrame to a CSV file\n",
    "    df.to_csv(f'./data/raw/{file_name}', index=False)\n",
    "\n",
    "    # Print confirmation message\n",
    "    print(f'Data saved to {file_name}')\n",
    "\n",
    "else:\n",
    "    print(f'Error: {response.status_code} - {response.text}')"
   ]
  }
 ],
 "metadata": {
  "kernelspec": {
   "display_name": "base",
   "language": "python",
   "name": "python3"
  },
  "language_info": {
   "codemirror_mode": {
    "name": "ipython",
    "version": 3
   },
   "file_extension": ".py",
   "mimetype": "text/x-python",
   "name": "python",
   "nbconvert_exporter": "python",
   "pygments_lexer": "ipython3",
   "version": "3.12.2"
  }
 },
 "nbformat": 4,
 "nbformat_minor": 5
}
